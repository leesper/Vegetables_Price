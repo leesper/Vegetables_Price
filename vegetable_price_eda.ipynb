{
 "cells": [
  {
   "cell_type": "code",
   "execution_count": 104,
   "metadata": {
    "collapsed": true
   },
   "outputs": [],
   "source": [
    "import numpy as np\n",
    "import pandas as pd\n",
    "import re\n",
    "import matplotlib.pyplot as plt\n",
    "from datetime import datetime as dt\n",
    "\n",
    "%matplotlib inline"
   ]
  },
  {
   "cell_type": "markdown",
   "metadata": {},
   "source": [
    "# 整理数据"
   ]
  },
  {
   "cell_type": "markdown",
   "metadata": {},
   "source": [
    "## 读取数据"
   ]
  },
  {
   "cell_type": "code",
   "execution_count": 105,
   "metadata": {},
   "outputs": [
    {
     "data": {
      "text/html": [
       "<div>\n",
       "<style scoped>\n",
       "    .dataframe tbody tr th:only-of-type {\n",
       "        vertical-align: middle;\n",
       "    }\n",
       "\n",
       "    .dataframe tbody tr th {\n",
       "        vertical-align: top;\n",
       "    }\n",
       "\n",
       "    .dataframe thead th {\n",
       "        text-align: right;\n",
       "    }\n",
       "</style>\n",
       "<table border=\"1\" class=\"dataframe\">\n",
       "  <thead>\n",
       "    <tr style=\"text-align: right;\">\n",
       "      <th></th>\n",
       "      <th>v_name</th>\n",
       "      <th>v_price</th>\n",
       "      <th>h_price</th>\n",
       "      <th>l_price</th>\n",
       "      <th>v_market</th>\n",
       "      <th>area</th>\n",
       "      <th>source</th>\n",
       "      <th>updateTime</th>\n",
       "      <th>insertTime</th>\n",
       "      <th>yWendu</th>\n",
       "      <th>bWendu</th>\n",
       "      <th>tianqi</th>\n",
       "      <th>fengli</th>\n",
       "      <th>fengxiang</th>\n",
       "      <th>aqi</th>\n",
       "      <th>aqiLevel</th>\n",
       "      <th>aqiInfo</th>\n",
       "      <th>cpi</th>\n",
       "    </tr>\n",
       "  </thead>\n",
       "  <tbody>\n",
       "    <tr>\n",
       "      <th>0</th>\n",
       "      <td>大白菜</td>\n",
       "      <td>1.5</td>\n",
       "      <td>1.8</td>\n",
       "      <td>1.2</td>\n",
       "      <td>四川成都龙泉聚和(国际)果蔬菜交易中心</td>\n",
       "      <td>cd</td>\n",
       "      <td>vegnet.com.cn</td>\n",
       "      <td>2016-03-01</td>\n",
       "      <td>2018-04-19</td>\n",
       "      <td>6</td>\n",
       "      <td>19</td>\n",
       "      <td>晴</td>\n",
       "      <td>微风</td>\n",
       "      <td>南风</td>\n",
       "      <td>137</td>\n",
       "      <td>3</td>\n",
       "      <td>轻度污染</td>\n",
       "      <td>102.3</td>\n",
       "    </tr>\n",
       "    <tr>\n",
       "      <th>1</th>\n",
       "      <td>洋白菜</td>\n",
       "      <td>1.4</td>\n",
       "      <td>1.7</td>\n",
       "      <td>1.2</td>\n",
       "      <td>四川成都龙泉聚和(国际)果蔬菜交易中心</td>\n",
       "      <td>cd</td>\n",
       "      <td>vegnet.com.cn</td>\n",
       "      <td>2016-03-01</td>\n",
       "      <td>2018-04-19</td>\n",
       "      <td>6</td>\n",
       "      <td>19</td>\n",
       "      <td>晴</td>\n",
       "      <td>微风</td>\n",
       "      <td>南风</td>\n",
       "      <td>137</td>\n",
       "      <td>3</td>\n",
       "      <td>轻度污染</td>\n",
       "      <td>102.3</td>\n",
       "    </tr>\n",
       "    <tr>\n",
       "      <th>2</th>\n",
       "      <td>生菜</td>\n",
       "      <td>4.8</td>\n",
       "      <td>5.4</td>\n",
       "      <td>4.2</td>\n",
       "      <td>四川成都龙泉聚和(国际)果蔬菜交易中心</td>\n",
       "      <td>cd</td>\n",
       "      <td>vegnet.com.cn</td>\n",
       "      <td>2016-03-01</td>\n",
       "      <td>2018-04-19</td>\n",
       "      <td>6</td>\n",
       "      <td>19</td>\n",
       "      <td>晴</td>\n",
       "      <td>微风</td>\n",
       "      <td>南风</td>\n",
       "      <td>137</td>\n",
       "      <td>3</td>\n",
       "      <td>轻度污染</td>\n",
       "      <td>102.3</td>\n",
       "    </tr>\n",
       "    <tr>\n",
       "      <th>3</th>\n",
       "      <td>韭菜</td>\n",
       "      <td>5.2</td>\n",
       "      <td>5.5</td>\n",
       "      <td>4.8</td>\n",
       "      <td>四川成都龙泉聚和(国际)果蔬菜交易中心</td>\n",
       "      <td>cd</td>\n",
       "      <td>vegnet.com.cn</td>\n",
       "      <td>2016-03-01</td>\n",
       "      <td>2018-04-19</td>\n",
       "      <td>6</td>\n",
       "      <td>19</td>\n",
       "      <td>晴</td>\n",
       "      <td>微风</td>\n",
       "      <td>南风</td>\n",
       "      <td>137</td>\n",
       "      <td>3</td>\n",
       "      <td>轻度污染</td>\n",
       "      <td>102.3</td>\n",
       "    </tr>\n",
       "    <tr>\n",
       "      <th>4</th>\n",
       "      <td>白萝卜</td>\n",
       "      <td>1.4</td>\n",
       "      <td>1.7</td>\n",
       "      <td>1.1</td>\n",
       "      <td>四川成都龙泉聚和(国际)果蔬菜交易中心</td>\n",
       "      <td>cd</td>\n",
       "      <td>vegnet.com.cn</td>\n",
       "      <td>2016-03-01</td>\n",
       "      <td>2018-04-19</td>\n",
       "      <td>6</td>\n",
       "      <td>19</td>\n",
       "      <td>晴</td>\n",
       "      <td>微风</td>\n",
       "      <td>南风</td>\n",
       "      <td>137</td>\n",
       "      <td>3</td>\n",
       "      <td>轻度污染</td>\n",
       "      <td>102.3</td>\n",
       "    </tr>\n",
       "  </tbody>\n",
       "</table>\n",
       "</div>"
      ],
      "text/plain": [
       "  v_name  v_price  h_price  l_price             v_market area         source  \\\n",
       "0    大白菜      1.5      1.8      1.2  四川成都龙泉聚和(国际)果蔬菜交易中心   cd  vegnet.com.cn   \n",
       "1    洋白菜      1.4      1.7      1.2  四川成都龙泉聚和(国际)果蔬菜交易中心   cd  vegnet.com.cn   \n",
       "2     生菜      4.8      5.4      4.2  四川成都龙泉聚和(国际)果蔬菜交易中心   cd  vegnet.com.cn   \n",
       "3     韭菜      5.2      5.5      4.8  四川成都龙泉聚和(国际)果蔬菜交易中心   cd  vegnet.com.cn   \n",
       "4    白萝卜      1.4      1.7      1.1  四川成都龙泉聚和(国际)果蔬菜交易中心   cd  vegnet.com.cn   \n",
       "\n",
       "  updateTime  insertTime  yWendu  bWendu tianqi fengli fengxiang  aqi  \\\n",
       "0 2016-03-01  2018-04-19       6      19      晴     微风        南风  137   \n",
       "1 2016-03-01  2018-04-19       6      19      晴     微风        南风  137   \n",
       "2 2016-03-01  2018-04-19       6      19      晴     微风        南风  137   \n",
       "3 2016-03-01  2018-04-19       6      19      晴     微风        南风  137   \n",
       "4 2016-03-01  2018-04-19       6      19      晴     微风        南风  137   \n",
       "\n",
       "   aqiLevel aqiInfo    cpi  \n",
       "0         3    轻度污染  102.3  \n",
       "1         3    轻度污染  102.3  \n",
       "2         3    轻度污染  102.3  \n",
       "3         3    轻度污染  102.3  \n",
       "4         3    轻度污染  102.3  "
      ]
     },
     "execution_count": 105,
     "metadata": {},
     "output_type": "execute_result"
    }
   ],
   "source": [
    "vegetable_prices = pd.read_csv('vegetable_prices.csv')\n",
    "vegetable_prices['updateTime'] = pd.to_datetime(vegetable_prices['updateTime'])\n",
    "vegetable_prices.head()"
   ]
  },
  {
   "cell_type": "code",
   "execution_count": 106,
   "metadata": {
    "collapsed": true
   },
   "outputs": [],
   "source": [
    "vegetable_prices = vegetable_prices.drop(['v_market', 'area', 'source', 'insertTime', 'aqiInfo'], axis=1)"
   ]
  },
  {
   "cell_type": "code",
   "execution_count": 107,
   "metadata": {},
   "outputs": [
    {
     "data": {
      "text/html": [
       "<div>\n",
       "<style scoped>\n",
       "    .dataframe tbody tr th:only-of-type {\n",
       "        vertical-align: middle;\n",
       "    }\n",
       "\n",
       "    .dataframe tbody tr th {\n",
       "        vertical-align: top;\n",
       "    }\n",
       "\n",
       "    .dataframe thead th {\n",
       "        text-align: right;\n",
       "    }\n",
       "</style>\n",
       "<table border=\"1\" class=\"dataframe\">\n",
       "  <thead>\n",
       "    <tr style=\"text-align: right;\">\n",
       "      <th></th>\n",
       "      <th>v_name</th>\n",
       "      <th>v_price</th>\n",
       "      <th>h_price</th>\n",
       "      <th>l_price</th>\n",
       "      <th>updateTime</th>\n",
       "      <th>yWendu</th>\n",
       "      <th>bWendu</th>\n",
       "      <th>tianqi</th>\n",
       "      <th>fengli</th>\n",
       "      <th>fengxiang</th>\n",
       "      <th>aqi</th>\n",
       "      <th>aqiLevel</th>\n",
       "      <th>cpi</th>\n",
       "    </tr>\n",
       "  </thead>\n",
       "  <tbody>\n",
       "    <tr>\n",
       "      <th>0</th>\n",
       "      <td>大白菜</td>\n",
       "      <td>1.5</td>\n",
       "      <td>1.8</td>\n",
       "      <td>1.2</td>\n",
       "      <td>2016-03-01</td>\n",
       "      <td>6</td>\n",
       "      <td>19</td>\n",
       "      <td>晴</td>\n",
       "      <td>微风</td>\n",
       "      <td>南风</td>\n",
       "      <td>137</td>\n",
       "      <td>3</td>\n",
       "      <td>102.3</td>\n",
       "    </tr>\n",
       "    <tr>\n",
       "      <th>1</th>\n",
       "      <td>洋白菜</td>\n",
       "      <td>1.4</td>\n",
       "      <td>1.7</td>\n",
       "      <td>1.2</td>\n",
       "      <td>2016-03-01</td>\n",
       "      <td>6</td>\n",
       "      <td>19</td>\n",
       "      <td>晴</td>\n",
       "      <td>微风</td>\n",
       "      <td>南风</td>\n",
       "      <td>137</td>\n",
       "      <td>3</td>\n",
       "      <td>102.3</td>\n",
       "    </tr>\n",
       "    <tr>\n",
       "      <th>2</th>\n",
       "      <td>生菜</td>\n",
       "      <td>4.8</td>\n",
       "      <td>5.4</td>\n",
       "      <td>4.2</td>\n",
       "      <td>2016-03-01</td>\n",
       "      <td>6</td>\n",
       "      <td>19</td>\n",
       "      <td>晴</td>\n",
       "      <td>微风</td>\n",
       "      <td>南风</td>\n",
       "      <td>137</td>\n",
       "      <td>3</td>\n",
       "      <td>102.3</td>\n",
       "    </tr>\n",
       "    <tr>\n",
       "      <th>3</th>\n",
       "      <td>韭菜</td>\n",
       "      <td>5.2</td>\n",
       "      <td>5.5</td>\n",
       "      <td>4.8</td>\n",
       "      <td>2016-03-01</td>\n",
       "      <td>6</td>\n",
       "      <td>19</td>\n",
       "      <td>晴</td>\n",
       "      <td>微风</td>\n",
       "      <td>南风</td>\n",
       "      <td>137</td>\n",
       "      <td>3</td>\n",
       "      <td>102.3</td>\n",
       "    </tr>\n",
       "    <tr>\n",
       "      <th>4</th>\n",
       "      <td>白萝卜</td>\n",
       "      <td>1.4</td>\n",
       "      <td>1.7</td>\n",
       "      <td>1.1</td>\n",
       "      <td>2016-03-01</td>\n",
       "      <td>6</td>\n",
       "      <td>19</td>\n",
       "      <td>晴</td>\n",
       "      <td>微风</td>\n",
       "      <td>南风</td>\n",
       "      <td>137</td>\n",
       "      <td>3</td>\n",
       "      <td>102.3</td>\n",
       "    </tr>\n",
       "  </tbody>\n",
       "</table>\n",
       "</div>"
      ],
      "text/plain": [
       "  v_name  v_price  h_price  l_price updateTime  yWendu  bWendu tianqi fengli  \\\n",
       "0    大白菜      1.5      1.8      1.2 2016-03-01       6      19      晴     微风   \n",
       "1    洋白菜      1.4      1.7      1.2 2016-03-01       6      19      晴     微风   \n",
       "2     生菜      4.8      5.4      4.2 2016-03-01       6      19      晴     微风   \n",
       "3     韭菜      5.2      5.5      4.8 2016-03-01       6      19      晴     微风   \n",
       "4    白萝卜      1.4      1.7      1.1 2016-03-01       6      19      晴     微风   \n",
       "\n",
       "  fengxiang  aqi  aqiLevel    cpi  \n",
       "0        南风  137         3  102.3  \n",
       "1        南风  137         3  102.3  \n",
       "2        南风  137         3  102.3  \n",
       "3        南风  137         3  102.3  \n",
       "4        南风  137         3  102.3  "
      ]
     },
     "execution_count": 107,
     "metadata": {},
     "output_type": "execute_result"
    }
   ],
   "source": [
    "vegetable_prices.head()"
   ]
  },
  {
   "cell_type": "code",
   "execution_count": 108,
   "metadata": {},
   "outputs": [
    {
     "data": {
      "text/html": [
       "<div>\n",
       "<style scoped>\n",
       "    .dataframe tbody tr th:only-of-type {\n",
       "        vertical-align: middle;\n",
       "    }\n",
       "\n",
       "    .dataframe tbody tr th {\n",
       "        vertical-align: top;\n",
       "    }\n",
       "\n",
       "    .dataframe thead th {\n",
       "        text-align: right;\n",
       "    }\n",
       "</style>\n",
       "<table border=\"1\" class=\"dataframe\">\n",
       "  <thead>\n",
       "    <tr style=\"text-align: right;\">\n",
       "      <th></th>\n",
       "      <th>v_price</th>\n",
       "      <th>h_price</th>\n",
       "      <th>l_price</th>\n",
       "      <th>yWendu</th>\n",
       "      <th>bWendu</th>\n",
       "      <th>aqi</th>\n",
       "      <th>aqiLevel</th>\n",
       "      <th>cpi</th>\n",
       "    </tr>\n",
       "  </thead>\n",
       "  <tbody>\n",
       "    <tr>\n",
       "      <th>count</th>\n",
       "      <td>7380.000000</td>\n",
       "      <td>7380.000000</td>\n",
       "      <td>7380.000000</td>\n",
       "      <td>7380.000000</td>\n",
       "      <td>7380.000000</td>\n",
       "      <td>7380.000000</td>\n",
       "      <td>7380.000000</td>\n",
       "      <td>7380.000000</td>\n",
       "    </tr>\n",
       "    <tr>\n",
       "      <th>mean</th>\n",
       "      <td>4.277428</td>\n",
       "      <td>4.880379</td>\n",
       "      <td>3.842229</td>\n",
       "      <td>12.117615</td>\n",
       "      <td>19.887127</td>\n",
       "      <td>90.306098</td>\n",
       "      <td>2.278455</td>\n",
       "      <td>101.696125</td>\n",
       "    </tr>\n",
       "    <tr>\n",
       "      <th>std</th>\n",
       "      <td>2.944538</td>\n",
       "      <td>3.310784</td>\n",
       "      <td>2.755695</td>\n",
       "      <td>7.611643</td>\n",
       "      <td>7.909340</td>\n",
       "      <td>47.854366</td>\n",
       "      <td>0.961149</td>\n",
       "      <td>0.563632</td>\n",
       "    </tr>\n",
       "    <tr>\n",
       "      <th>min</th>\n",
       "      <td>0.800000</td>\n",
       "      <td>0.900000</td>\n",
       "      <td>0.700000</td>\n",
       "      <td>-4.000000</td>\n",
       "      <td>4.000000</td>\n",
       "      <td>25.000000</td>\n",
       "      <td>1.000000</td>\n",
       "      <td>100.800000</td>\n",
       "    </tr>\n",
       "    <tr>\n",
       "      <th>25%</th>\n",
       "      <td>2.000000</td>\n",
       "      <td>2.300000</td>\n",
       "      <td>1.800000</td>\n",
       "      <td>6.000000</td>\n",
       "      <td>13.000000</td>\n",
       "      <td>54.000000</td>\n",
       "      <td>2.000000</td>\n",
       "      <td>101.300000</td>\n",
       "    </tr>\n",
       "    <tr>\n",
       "      <th>50%</th>\n",
       "      <td>3.600000</td>\n",
       "      <td>4.000000</td>\n",
       "      <td>3.200000</td>\n",
       "      <td>12.000000</td>\n",
       "      <td>19.000000</td>\n",
       "      <td>79.000000</td>\n",
       "      <td>2.000000</td>\n",
       "      <td>101.400000</td>\n",
       "    </tr>\n",
       "    <tr>\n",
       "      <th>75%</th>\n",
       "      <td>5.000000</td>\n",
       "      <td>6.000000</td>\n",
       "      <td>4.500000</td>\n",
       "      <td>19.000000</td>\n",
       "      <td>27.000000</td>\n",
       "      <td>117.000000</td>\n",
       "      <td>3.000000</td>\n",
       "      <td>102.300000</td>\n",
       "    </tr>\n",
       "    <tr>\n",
       "      <th>max</th>\n",
       "      <td>16.500000</td>\n",
       "      <td>20.000000</td>\n",
       "      <td>16.000000</td>\n",
       "      <td>26.000000</td>\n",
       "      <td>36.000000</td>\n",
       "      <td>318.000000</td>\n",
       "      <td>6.000000</td>\n",
       "      <td>102.600000</td>\n",
       "    </tr>\n",
       "  </tbody>\n",
       "</table>\n",
       "</div>"
      ],
      "text/plain": [
       "           v_price      h_price      l_price       yWendu       bWendu  \\\n",
       "count  7380.000000  7380.000000  7380.000000  7380.000000  7380.000000   \n",
       "mean      4.277428     4.880379     3.842229    12.117615    19.887127   \n",
       "std       2.944538     3.310784     2.755695     7.611643     7.909340   \n",
       "min       0.800000     0.900000     0.700000    -4.000000     4.000000   \n",
       "25%       2.000000     2.300000     1.800000     6.000000    13.000000   \n",
       "50%       3.600000     4.000000     3.200000    12.000000    19.000000   \n",
       "75%       5.000000     6.000000     4.500000    19.000000    27.000000   \n",
       "max      16.500000    20.000000    16.000000    26.000000    36.000000   \n",
       "\n",
       "               aqi     aqiLevel          cpi  \n",
       "count  7380.000000  7380.000000  7380.000000  \n",
       "mean     90.306098     2.278455   101.696125  \n",
       "std      47.854366     0.961149     0.563632  \n",
       "min      25.000000     1.000000   100.800000  \n",
       "25%      54.000000     2.000000   101.300000  \n",
       "50%      79.000000     2.000000   101.400000  \n",
       "75%     117.000000     3.000000   102.300000  \n",
       "max     318.000000     6.000000   102.600000  "
      ]
     },
     "execution_count": 108,
     "metadata": {},
     "output_type": "execute_result"
    }
   ],
   "source": [
    "vegetable_prices.describe()"
   ]
  },
  {
   "cell_type": "markdown",
   "metadata": {},
   "source": [
    "## 检查数据缺失项"
   ]
  },
  {
   "cell_type": "code",
   "execution_count": 109,
   "metadata": {},
   "outputs": [
    {
     "name": "stdout",
     "output_type": "stream",
     "text": [
      "            missing percentage(%)\n",
      "v_name            0          0.0%\n",
      "v_price           0          0.0%\n",
      "h_price           0          0.0%\n",
      "l_price           0          0.0%\n",
      "updateTime        0          0.0%\n",
      "yWendu            0          0.0%\n",
      "bWendu            0          0.0%\n",
      "tianqi            0          0.0%\n",
      "fengli            0          0.0%\n",
      "fengxiang         0          0.0%\n",
      "aqi               0          0.0%\n",
      "aqiLevel          0          0.0%\n",
      "cpi               0          0.0%\n"
     ]
    }
   ],
   "source": [
    "missing = vegetable_prices.isnull().sum()\n",
    "ratio = vegetable_prices.isnull().sum() / float(len(vegetable_prices))\n",
    "round_ratio = ratio.apply(lambda x: str(round(x, 4) * 100) + '%')\n",
    "print(pd.concat([missing.rename('missing'), round_ratio.rename('percentage(%)')], axis = 'columns'))\n"
   ]
  },
  {
   "cell_type": "markdown",
   "metadata": {},
   "source": [
    "通过对数据进行初步检查，没有发现异常记录和异常值。"
   ]
  },
  {
   "cell_type": "code",
   "execution_count": 110,
   "metadata": {},
   "outputs": [
    {
     "data": {
      "text/plain": [
       "<matplotlib.axes._subplots.AxesSubplot at 0x7fa12f44e150>"
      ]
     },
     "execution_count": 110,
     "metadata": {},
     "output_type": "execute_result"
    },
    {
     "data": {
      "image/png": "[encoded data removed]",
      "text/plain": [
       "<matplotlib.figure.Figure at 0x7fa12ef03dd0>"
      ]
     },
     "metadata": {},
     "output_type": "display_data"
    }
   ],
   "source": [
    "# vegetable_prices.groupby('v_name')['v_name'].count().plot(kind='bar', figsize=(10, 5))\n",
    "group_by_name_count = vegetable_prices.groupby('v_name')['v_name'].count().reset_index(name='count').sort_values(['count'], ascending=False)\n",
    "group_by_name_count.plot(kind='bar', x='v_name', figsize=(10, 5))"
   ]
  },
  {
   "cell_type": "markdown",
   "metadata": {},
   "source": [
    "从柱状图上看，目前记录数量最多的是大白菜，洋白菜，生菜，韭菜，白萝卜和胡萝卜，现在我们以大白菜为例对数据进行进一步分析。"
   ]
  },
  {
   "cell_type": "code",
   "execution_count": 111,
   "metadata": {},
   "outputs": [],
   "source": [
    "dabaicai_df = vegetable_prices[vegetable_prices['v_name'] == '大白菜']"
   ]
  },
  {
   "cell_type": "markdown",
   "metadata": {},
   "source": [
    "感兴趣的问题：\n",
    "\n",
    "1. 大白菜价格走势图（最高价，最低价）；\n",
    "\n",
    "2. 大白菜价格与天气的关系；\n",
    "3. 大白菜价格与温度的关系；\n",
    "4. 大白菜价格与居民消费指数关系；\n",
    "5. 大白菜价格与空气质量指数关系；"
   ]
  },
  {
   "cell_type": "code",
   "execution_count": 112,
   "metadata": {},
   "outputs": [
    {
     "data": {
      "text/plain": [
       "<matplotlib.axes._subplots.AxesSubplot at 0x7fa12ef21d90>"
      ]
     },
     "execution_count": 112,
     "metadata": {},
     "output_type": "execute_result"
    },
    {
     "data": {
      "image/png": "[encoded data removed]",
      "text/plain": [
       "<matplotlib.figure.Figure at 0x7fa12ef93890>"
      ]
     },
     "metadata": {},
     "output_type": "display_data"
    }
   ],
   "source": [
    "\n",
    "dabaicai_double_prices = dabaicai_df[['h_price', 'l_price', 'updateTime']]\n",
    "# dabaicai_double_prices.plot()\n",
    "dabaicai_double_prices.set_index('updateTime', inplace=True)\n",
    "dabaicai_double_prices.plot(figsize=(10, 5))"
   ]
  },
  {
   "cell_type": "code",
   "execution_count": null,
   "metadata": {
    "collapsed": true
   },
   "outputs": [],
   "source": []
  }
 ],
 "metadata": {
  "kernelspec": {
   "display_name": "Python 2",
   "language": "python",
   "name": "python2"
  },
  "language_info": {
   "codemirror_mode": {
    "name": "ipython",
    "version": 2
   },
   "file_extension": ".py",
   "mimetype": "text/x-python",
   "name": "python",
   "nbconvert_exporter": "python",
   "pygments_lexer": "ipython2",
   "version": "2.7.13"
  }
 },
 "nbformat": 4,
 "nbformat_minor": 2
}
