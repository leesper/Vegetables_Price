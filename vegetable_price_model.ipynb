{
 "cells": [
  {
   "cell_type": "markdown",
   "metadata": {},
   "source": [
    "# 蔬菜价格预测模型\n",
    "\n",
    "2018年4月25日\n",
    "\n",
    "在这个项目中，我们将使用成都市蔬菜价格数据建立一个有关最高价和最低价的预测模型。根据前面对数据进行的探索性分析，我们得到如下结论：\n",
    "\n",
    "1. 蔬菜最高价与“最低价”、“白天温度”、“夜晚温度”、“前3天最高价均值”、“前9天最高价均值”、“前3天最低价均值”、“前9天最低价均值”具有相关关系；\n",
    "2. 蔬菜最低价与“最高价”、“前3天最高价均值”、“前9天最高价均值”、“前3天最低价均值”、“前9天最低价均值”具有相关关系；\n",
    "\n",
    "因此我们将围绕这一维度分别建立对最高价和最低价进行预测的算法模型，将探索多个常用的监督学习算法并找出其中最优的方案。"
   ]
  },
  {
   "cell_type": "markdown",
   "metadata": {},
   "source": [
    "## 1. 数据准备"
   ]
  },
  {
   "cell_type": "markdown",
   "metadata": {},
   "source": [
    "### 1.1 导入数据\n",
    "\n",
    "首先从CSV文件中导入数据，然后将数据拆分为特征和目标两个部分。"
   ]
  },
  {
   "cell_type": "code",
   "execution_count": 1,
   "metadata": {
    "collapsed": true
   },
   "outputs": [],
   "source": [
    "import numpy as np\n",
    "import pandas as pd\n",
    "import matplotlib.pyplot as plt\n",
    "\n",
    "%matplotlib inline"
   ]
  },
  {
   "cell_type": "code",
   "execution_count": 6,
   "metadata": {},
   "outputs": [
    {
     "name": "stdout",
     "output_type": "stream",
     "text": [
      "chengdu vegetable dataset has 7380 data points with 18 variables each\n"
     ]
    }
   ],
   "source": [
    "data = pd.read_csv('./vegetable_prices.csv')\n",
    "high_prices = data['h_price']\n",
    "low_prices = data['l_price']\n",
    "features = data.drop(['l_price', 'h_price', 'v_price'], axis=1)\n",
    "\n",
    "print('chengdu vegetable dataset has {} data points with {} variables each'.format(*data.shape))"
   ]
  },
  {
   "cell_type": "markdown",
   "metadata": {},
   "source": [
    "### 1.2 分析数据"
   ]
  },
  {
   "cell_type": "code",
   "execution_count": 7,
   "metadata": {},
   "outputs": [
    {
     "data": {
      "text/html": [
       "<div>\n",
       "<style scoped>\n",
       "    .dataframe tbody tr th:only-of-type {\n",
       "        vertical-align: middle;\n",
       "    }\n",
       "\n",
       "    .dataframe tbody tr th {\n",
       "        vertical-align: top;\n",
       "    }\n",
       "\n",
       "    .dataframe thead th {\n",
       "        text-align: right;\n",
       "    }\n",
       "</style>\n",
       "<table border=\"1\" class=\"dataframe\">\n",
       "  <thead>\n",
       "    <tr style=\"text-align: right;\">\n",
       "      <th></th>\n",
       "      <th>v_price</th>\n",
       "      <th>h_price</th>\n",
       "      <th>l_price</th>\n",
       "      <th>yWendu</th>\n",
       "      <th>bWendu</th>\n",
       "      <th>aqi</th>\n",
       "      <th>aqiLevel</th>\n",
       "      <th>cpi</th>\n",
       "    </tr>\n",
       "  </thead>\n",
       "  <tbody>\n",
       "    <tr>\n",
       "      <th>count</th>\n",
       "      <td>7380.000000</td>\n",
       "      <td>7380.000000</td>\n",
       "      <td>7380.000000</td>\n",
       "      <td>7380.000000</td>\n",
       "      <td>7380.000000</td>\n",
       "      <td>7380.000000</td>\n",
       "      <td>7380.000000</td>\n",
       "      <td>7380.000000</td>\n",
       "    </tr>\n",
       "    <tr>\n",
       "      <th>mean</th>\n",
       "      <td>4.277428</td>\n",
       "      <td>4.880379</td>\n",
       "      <td>3.842229</td>\n",
       "      <td>12.117615</td>\n",
       "      <td>19.887127</td>\n",
       "      <td>90.306098</td>\n",
       "      <td>2.278455</td>\n",
       "      <td>101.696125</td>\n",
       "    </tr>\n",
       "    <tr>\n",
       "      <th>std</th>\n",
       "      <td>2.944538</td>\n",
       "      <td>3.310784</td>\n",
       "      <td>2.755695</td>\n",
       "      <td>7.611643</td>\n",
       "      <td>7.909340</td>\n",
       "      <td>47.854366</td>\n",
       "      <td>0.961149</td>\n",
       "      <td>0.563632</td>\n",
       "    </tr>\n",
       "    <tr>\n",
       "      <th>min</th>\n",
       "      <td>0.800000</td>\n",
       "      <td>0.900000</td>\n",
       "      <td>0.700000</td>\n",
       "      <td>-4.000000</td>\n",
       "      <td>4.000000</td>\n",
       "      <td>25.000000</td>\n",
       "      <td>1.000000</td>\n",
       "      <td>100.800000</td>\n",
       "    </tr>\n",
       "    <tr>\n",
       "      <th>25%</th>\n",
       "      <td>2.000000</td>\n",
       "      <td>2.300000</td>\n",
       "      <td>1.800000</td>\n",
       "      <td>6.000000</td>\n",
       "      <td>13.000000</td>\n",
       "      <td>54.000000</td>\n",
       "      <td>2.000000</td>\n",
       "      <td>101.300000</td>\n",
       "    </tr>\n",
       "    <tr>\n",
       "      <th>50%</th>\n",
       "      <td>3.600000</td>\n",
       "      <td>4.000000</td>\n",
       "      <td>3.200000</td>\n",
       "      <td>12.000000</td>\n",
       "      <td>19.000000</td>\n",
       "      <td>79.000000</td>\n",
       "      <td>2.000000</td>\n",
       "      <td>101.400000</td>\n",
       "    </tr>\n",
       "    <tr>\n",
       "      <th>75%</th>\n",
       "      <td>5.000000</td>\n",
       "      <td>6.000000</td>\n",
       "      <td>4.500000</td>\n",
       "      <td>19.000000</td>\n",
       "      <td>27.000000</td>\n",
       "      <td>117.000000</td>\n",
       "      <td>3.000000</td>\n",
       "      <td>102.300000</td>\n",
       "    </tr>\n",
       "    <tr>\n",
       "      <th>max</th>\n",
       "      <td>16.500000</td>\n",
       "      <td>20.000000</td>\n",
       "      <td>16.000000</td>\n",
       "      <td>26.000000</td>\n",
       "      <td>36.000000</td>\n",
       "      <td>318.000000</td>\n",
       "      <td>6.000000</td>\n",
       "      <td>102.600000</td>\n",
       "    </tr>\n",
       "  </tbody>\n",
       "</table>\n",
       "</div>"
      ],
      "text/plain": [
       "           v_price      h_price      l_price       yWendu       bWendu  \\\n",
       "count  7380.000000  7380.000000  7380.000000  7380.000000  7380.000000   \n",
       "mean      4.277428     4.880379     3.842229    12.117615    19.887127   \n",
       "std       2.944538     3.310784     2.755695     7.611643     7.909340   \n",
       "min       0.800000     0.900000     0.700000    -4.000000     4.000000   \n",
       "25%       2.000000     2.300000     1.800000     6.000000    13.000000   \n",
       "50%       3.600000     4.000000     3.200000    12.000000    19.000000   \n",
       "75%       5.000000     6.000000     4.500000    19.000000    27.000000   \n",
       "max      16.500000    20.000000    16.000000    26.000000    36.000000   \n",
       "\n",
       "               aqi     aqiLevel          cpi  \n",
       "count  7380.000000  7380.000000  7380.000000  \n",
       "mean     90.306098     2.278455   101.696125  \n",
       "std      47.854366     0.961149     0.563632  \n",
       "min      25.000000     1.000000   100.800000  \n",
       "25%      54.000000     2.000000   101.300000  \n",
       "50%      79.000000     2.000000   101.400000  \n",
       "75%     117.000000     3.000000   102.300000  \n",
       "max     318.000000     6.000000   102.600000  "
      ]
     },
     "execution_count": 7,
     "metadata": {},
     "output_type": "execute_result"
    }
   ],
   "source": [
    "data.describe()"
   ]
  },
  {
   "cell_type": "markdown",
   "metadata": {},
   "source": [
    "以上是对原始数据集中的几个数值型变量进行的基本统计分析，可以看到均值，标准差，中位数和最值等基本描述统计量。"
   ]
  },
  {
   "cell_type": "markdown",
   "metadata": {},
   "source": [
    "### 1.3 数据分割与重排\n",
    "接下来，将数据集分成训练和测试两个子集并打乱数据顺序，消除数据集中由于顺序产生的偏差，分割比例为80%数据用于训练，20%用于测试。"
   ]
  },
  {
   "cell_type": "code",
   "execution_count": 8,
   "metadata": {
    "collapsed": true
   },
   "outputs": [],
   "source": [
    "from sklearn.model_selection import train_test_split\n",
    "\n",
    "X_train_h, X_test_h, y_train_h, y_test_h = train_test_split(features, high_prices, test_size=0.2, random_state=42)\n",
    "X_train_l, X_test_l, y_train_l, y_test_l = train_test_split(features, low_prices, test_size=0.2, random_state=42)\n",
    "\n"
   ]
  },
  {
   "cell_type": "markdown",
   "metadata": {},
   "source": [
    "## 2. 训练模型"
   ]
  },
  {
   "cell_type": "markdown",
   "metadata": {},
   "source": [
    "### 2.1 方案1：线性回归模型"
   ]
  },
  {
   "cell_type": "markdown",
   "metadata": {},
   "source": [
    "1. 网格搜索+K折交叉验证\n",
    "2. 分析模型表现"
   ]
  },
  {
   "cell_type": "markdown",
   "metadata": {},
   "source": [
    "## 3. 结论"
   ]
  },
  {
   "cell_type": "code",
   "execution_count": null,
   "metadata": {
    "collapsed": true
   },
   "outputs": [],
   "source": []
  }
 ],
 "metadata": {
  "kernelspec": {
   "display_name": "Python 2",
   "language": "python",
   "name": "python2"
  },
  "language_info": {
   "codemirror_mode": {
    "name": "ipython",
    "version": 2
   },
   "file_extension": ".py",
   "mimetype": "text/x-python",
   "name": "python",
   "nbconvert_exporter": "python",
   "pygments_lexer": "ipython2",
   "version": "2.7.13"
  }
 },
 "nbformat": 4,
 "nbformat_minor": 2
}
